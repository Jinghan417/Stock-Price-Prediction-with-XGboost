{
 "cells": [
  {
   "cell_type": "code",
   "execution_count": null,
   "metadata": {
    "id": "VhA6JvrXdDQ5"
   },
   "outputs": [],
   "source": [
    "import yfinance as yf\n",
    "import pandas as pd\n",
    "from pandas_datareader import data as pdr\n",
    "import datetime as dt\n",
    "import numpy as np\n",
    "import seaborn as sns\n",
    "import matplotlib.pyplot as plt\n",
    "color_pal = sns.color_palette()\n",
    "!pip install ta pandas_ta\n",
    "import ta\n",
    "import xgboost as xgb"
   ]
  },
  {
   "cell_type": "markdown",
   "metadata": {
    "id": "2r_2Axq2P9Ix"
   },
   "source": [
    "# 1. Grab Data"
   ]
  },
  {
   "cell_type": "code",
   "execution_count": null,
   "metadata": {
    "id": "7tcbsEUh9eiz"
   },
   "outputs": [],
   "source": [
    "from sklearn.metrics import mean_squared_error\n",
    "color_pal = sns.color_palette()\n",
    "plt.style.use('fivethirtyeight')"
   ]
  },
  {
   "cell_type": "code",
   "execution_count": null,
   "metadata": {
    "id": "BtptheLIdFFr"
   },
   "outputs": [],
   "source": [
    "endDate = dt.datetime.now() - dt.timedelta(days = 7)\n",
    "startDate = endDate - dt.timedelta(days = 365*5)\n",
    "\n",
    "stock = 'AAPL'\n",
    "\n",
    "df = yf.download(stock, start = startDate, end = endDate)\n",
    "df.columns = df.columns.droplevel(1)\n",
    "df.columns = df.columns.str.lower()\n",
    "\n",
    "\n",
    "df"
   ]
  },
  {
   "cell_type": "code",
   "execution_count": null,
   "metadata": {
    "id": "nJY2KvVk_1Q5"
   },
   "outputs": [],
   "source": [
    "df['close'].plot(figsize=(18, 6),color = color_pal[2], title='AAPL Closing Price')\n",
    "plt.xlabel('Date')\n",
    "plt.ylabel('Price (USD)')\n",
    "plt.grid(True)\n",
    "plt.show()"
   ]
  },
  {
   "cell_type": "code",
   "execution_count": null,
   "metadata": {
    "id": "qzA0WDMqBwil"
   },
   "outputs": [],
   "source": [
    "print(type(df.index))"
   ]
  },
  {
   "cell_type": "code",
   "execution_count": null,
   "metadata": {
    "id": "VKiitMMCC2Xw"
   },
   "outputs": [],
   "source": [
    "df.isnull().sum()"
   ]
  },
  {
   "cell_type": "code",
   "execution_count": null,
   "metadata": {
    "id": "xanM8AGF9DEb"
   },
   "outputs": [],
   "source": [
    "df.index.to_series().diff().value_counts()"
   ]
  },
  {
   "cell_type": "code",
   "execution_count": null,
   "metadata": {
    "id": "ga92p9LpPXCv"
   },
   "outputs": [],
   "source": [
    "df = df.resample('1D').ffill()"
   ]
  },
  {
   "cell_type": "markdown",
   "metadata": {
    "id": "pI5Y5k3CQC8E"
   },
   "source": [
    "# 2. Features"
   ]
  },
  {
   "cell_type": "code",
   "execution_count": null,
   "metadata": {
    "id": "eAzG-Y5PP4Ln"
   },
   "outputs": [],
   "source": [
    "df['lag_1'] = df['close'].shift(1)\n",
    "df['lag_3'] = df['close'].shift(3)\n",
    "df['lag_7'] = df['close'].shift(7)\n",
    "df['rolling_mean_7'] = df['close'].rolling(window=7).mean()\n",
    "df['rolling_std_7'] = df['close'].rolling(7).std()"
   ]
  },
  {
   "cell_type": "code",
   "execution_count": null,
   "metadata": {
    "id": "45f499ojRCEQ"
   },
   "outputs": [],
   "source": [
    "df['is_weekend'] = df.index.weekday >= 5\n",
    "df['volume_change_1'] = df['volume'].pct_change(1)\n",
    "df['rsi'] = ta.momentum.RSIIndicator(close=df['close'], window=14).rsi()\n",
    "df['target'] = df['close'].shift(-1)"
   ]
  },
  {
   "cell_type": "code",
   "execution_count": null,
   "metadata": {
    "id": "A83bhzrqRxj8"
   },
   "outputs": [],
   "source": [
    "!pip install pytrends\n",
    "from pytrends.request import TrendReq"
   ]
  },
  {
   "cell_type": "code",
   "execution_count": null,
   "metadata": {
    "id": "GEt1q8I8Upjz"
   },
   "outputs": [],
   "source": [
    "kw_list = [\"Apple stock\", \"buy stocks\", \"market crash\"]\n",
    "def get_google_trends(keyword, start, end):\n",
    "  pytrends = TrendReq(hl='en-US', tz=360)\n",
    "  start_date_str = start.strftime('%Y-%m-%d')\n",
    "  end_date_str = end.strftime('%Y-%m-%d')\n",
    "  timeframe = f\"{start_date_str} {end_date_str}\"\n",
    "  pytrends.build_payload(kw_list, cat=0, timeframe= timeframe, geo='US', gprop='')\n",
    "  data = pytrends.interest_over_time()\n",
    "  data = data.drop(columns=['isPartial'])  # 删除无用列\n",
    "  return data"
   ]
  },
  {
   "cell_type": "code",
   "execution_count": null,
   "metadata": {
    "id": "BVEvSleBXFVM"
   },
   "outputs": [],
   "source": [
    "google_trends_data = get_google_trends(kw_list, startDate, endDate)\n",
    "google_trends_data"
   ]
  },
  {
   "cell_type": "code",
   "execution_count": null,
   "metadata": {
    "id": "t4OXfuGGXGwB"
   },
   "outputs": [],
   "source": [
    "data.index = pd.to_datetime(data.index)\n",
    "\n",
    "\n",
    "data = data.resample('D').ffill()"
   ]
  },
  {
   "cell_type": "code",
   "execution_count": null,
   "metadata": {
    "id": "989v0pWPXKbQ"
   },
   "outputs": [],
   "source": [
    "df.index = pd.to_datetime(df.index)\n",
    "\n",
    "df = df.merge(data, how='left', left_index=True, right_index=True)"
   ]
  },
  {
   "cell_type": "code",
   "execution_count": null,
   "metadata": {
    "id": "Y4zw0SBLZCU9"
   },
   "outputs": [],
   "source": [
    "def create_features(df,google_trend_data):\n",
    "    df = df.copy()\n",
    "\n",
    "    df['rolling_mean_7'] = df['close'].rolling(7).mean()\n",
    "    df['rolling_std_7'] = df['close'].rolling(7).std()\n",
    "    df['volume_change_1'] = df['volume'].pct_change(1)\n",
    "    df['lag_1'] = df['close'].shift(1)\n",
    "    df['lag_3'] = df['close'].shift(3)\n",
    "    df['lag_7'] = df['close'].shift(7)\n",
    "    df['is_weekend'] = df.index.dayofweek >= 5\n",
    "\n",
    "    df['ma_gap'] = df['close'] - df['rolling_mean_7']\n",
    "    df['bb_upper'] = df['close'].rolling(20).mean() + 2 * df['close'].rolling(20).std()\n",
    "    df['bb_lower'] = df['close'].rolling(20).mean() - 2 * df['close'].rolling(20).std()\n",
    "    df['bb_width'] = df['bb_upper'] - df['bb_lower']\n",
    "\n",
    "    df['volatility_7'] = df['close'].pct_change().rolling(7).std()\n",
    "    df['close_open_diff'] = df['close'] - df['open']\n",
    "    df['day_of_week'] = df.index.dayofweek\n",
    "    df['is_month_end'] = df.index.is_month_end\n",
    "    df['is_quarter_end'] = df.index.is_quarter_end\n",
    "    df['month'] = df.index.month\n",
    "    df['year'] = df.index.year\n",
    "    df['target'] = df['close'].shift(-1)\n",
    "    df['rsi'] = ta.momentum.RSIIndicator(close=df['close'], window=14).rsi()\n",
    "    macd = ta.trend.MACD(df['close'])\n",
    "    df['macd'] = macd.macd()\n",
    "    df['macd_signal'] = macd.macd_signal()\n",
    "    df['macd_diff'] = macd.macd_diff()\n",
    "    df = df.merge(google_trend_data, how='left', left_index=True, right_index=True)\n",
    "\n",
    "\n",
    "\n",
    "\n",
    "    return df"
   ]
  },
  {
   "cell_type": "code",
   "execution_count": null,
   "metadata": {
    "id": "K3cYisd7Zg7-"
   },
   "outputs": [],
   "source": [
    "df.columns"
   ]
  },
  {
   "cell_type": "markdown",
   "metadata": {
    "id": "DN7i2poLcc8u"
   },
   "source": [
    "# 3. Time Series Cross Validation"
   ]
  },
  {
   "cell_type": "code",
   "execution_count": null,
   "metadata": {
    "id": "8omvJ6uwZ9Ne"
   },
   "outputs": [],
   "source": [
    "from sklearn.model_selection import TimeSeriesSplit"
   ]
  },
  {
   "cell_type": "code",
   "execution_count": null,
   "metadata": {
    "id": "mO6XLV3XbhO5"
   },
   "outputs": [],
   "source": [
    "df = df.sort_index()"
   ]
  },
  {
   "cell_type": "code",
   "execution_count": null,
   "metadata": {
    "id": "dXwc3hDjbjEQ"
   },
   "outputs": [],
   "source": [
    "tss = TimeSeriesSplit(n_splits=5, test_size=90, gap=1)"
   ]
  },
  {
   "cell_type": "code",
   "execution_count": null,
   "metadata": {
    "collapsed": true,
    "id": "BMCfFWDJc14U"
   },
   "outputs": [],
   "source": [
    "fig, axs = plt.subplots(5, 1, figsize=(14, 12), sharex=True)\n",
    "\n",
    "fold = 0\n",
    "for train_idx, val_idx in tss.split(df):\n",
    "    train = df.iloc[train_idx]\n",
    "    test = df.iloc[val_idx]\n",
    "\n",
    "\n",
    "    train['close'].plot(ax=axs[fold],\n",
    "                        label='Training Set',\n",
    "                        title=f'Data Train/Test Split Fold {fold}')\n",
    "\n",
    "    test['close'].plot(ax=axs[fold],\n",
    "                       label='Test Set')\n",
    "\n",
    "    axs[fold].axvline(test.index.min(), color='black', ls='--')\n",
    "    axs[fold].legend()\n",
    "    fold += 1\n",
    "\n",
    "plt.tight_layout()\n",
    "plt.show()"
   ]
  },
  {
   "cell_type": "markdown",
   "metadata": {
    "id": "4G1QnI4VeuDm"
   },
   "source": [
    "# 4. Train Using Cross Validation"
   ]
  },
  {
   "cell_type": "code",
   "execution_count": null,
   "metadata": {
    "id": "odhJMhXAjALz"
   },
   "outputs": [],
   "source": [
    "df = df.dropna()"
   ]
  },
  {
   "cell_type": "code",
   "execution_count": null,
   "metadata": {
    "id": "9gQ2ctuRdAmy"
   },
   "outputs": [],
   "source": [
    "from sklearn.metrics import mean_squared_error, mean_absolute_error\n",
    "\n",
    "tss = TimeSeriesSplit(n_splits=5, test_size=90, gap=1)\n",
    "df = df.sort_index()\n",
    "\n",
    "\n",
    "fold = 0\n",
    "preds = []\n",
    "scores = []\n",
    "\n",
    "FEATURES = ['lag_1', 'lag_3', 'lag_7', 'rolling_mean_7', 'rolling_std_7',\n",
    "            'volume_change_1', 'rsi', 'ma_gap', 'bb_upper', 'bb_lower',\n",
    "            'bb_width', 'macd', 'macd_signal', 'macd_diff', 'volatility_7',\n",
    "            'close_open_diff', 'day_of_week', 'is_weekend',\n",
    "            'is_month_end', 'is_quarter_end', 'month', 'year','Apple stock', 'buy stocks', 'market crash']\n",
    "TARGET = 'target'\n",
    "\n",
    "for train_idx, val_idx in tss.split(df):\n",
    "    train = df.iloc[train_idx]\n",
    "    test = df.iloc[val_idx]\n",
    "\n",
    "    X_train = train[FEATURES]\n",
    "    y_train = train[TARGET]\n",
    "\n",
    "    X_test = test[FEATURES]\n",
    "    y_test = test[TARGET]\n",
    "\n",
    "    reg = xgb.XGBRegressor(\n",
    "        base_score=0.5,\n",
    "        booster='gbtree',\n",
    "        n_estimators=1000,\n",
    "        early_stopping_rounds=50,\n",
    "        objective='reg:squarederror',\n",
    "        max_depth=3,\n",
    "        learning_rate=0.01,\n",
    "        random_state=42\n",
    "    )\n",
    "\n",
    "    reg.fit(X_train, y_train,\n",
    "            eval_set=[(X_train, y_train), (X_test, y_test)],\n",
    "            verbose=100)\n",
    "\n",
    "    y_pred = reg.predict(X_test)\n",
    "    preds.append(y_pred)\n",
    "    score = np.sqrt(mean_squared_error(y_test, y_pred))\n",
    "    scores.append(score)\n",
    "    print(f'Fold {fold} RMSE: {score:.4f}')\n",
    "    fold += 1\n",
    "\n",
    "    last_val_idx = val_idx\n",
    "\n",
    "\n",
    "print(f'Average RMSE: {np.mean(scores):.4f}')"
   ]
  },
  {
   "cell_type": "code",
   "execution_count": null,
   "metadata": {
    "id": "QgGFDiFtihA7"
   },
   "outputs": [],
   "source": [
    "print(f'Score across folds {np.mean(scores):0.4f}')\n",
    "print(f'Fold scores:{scores}')"
   ]
  },
  {
   "cell_type": "code",
   "execution_count": null,
   "metadata": {
    "id": "Hk3Su2jmjPJt"
   },
   "outputs": [],
   "source": [
    "df['close'].describe()"
   ]
  },
  {
   "cell_type": "code",
   "execution_count": null,
   "metadata": {
    "id": "Xj8R-_m8jUte"
   },
   "outputs": [],
   "source": [
    "plt.figure(figsize=(10, 4))\n",
    "plt.plot(y_test.values, label='Actual')\n",
    "plt.plot(y_pred, label='Predicted')\n",
    "plt.legend()\n",
    "plt.title('Prediction vs Actual')\n",
    "plt.show()\n"
   ]
  },
  {
   "cell_type": "code",
   "execution_count": null,
   "metadata": {
    "id": "4YyF_JEmjZ3c"
   },
   "outputs": [],
   "source": [
    "fi = pd.DataFrame(\n",
    "    data=reg.feature_importances_,\n",
    "    index=reg.feature_names_in_,\n",
    "    columns=['importance']\n",
    ")\n",
    "\n",
    "\n",
    "fi.sort_values('importance').plot(kind='barh', title='Feature Importance', figsize=(14, 8))\n",
    "plt.xlabel(\"Importance\")\n",
    "plt.ylabel(\"Feature\")\n",
    "plt.grid(True)\n",
    "plt.tight_layout()\n",
    "plt.show()"
   ]
  },
  {
   "cell_type": "markdown",
   "metadata": {
    "id": "Gfi--q7MIBnt"
   },
   "source": [
    "# 5. Backtest using pandas"
   ]
  },
  {
   "cell_type": "code",
   "execution_count": null,
   "metadata": {
    "id": "FuY0D4CPION3"
   },
   "outputs": [],
   "source": [
    "ticker = \"AAPL\"\n",
    "end_date = dt.datetime.now()\n",
    "start_date = end_date - dt.timedelta(days = 30)\n",
    "\n",
    "\n",
    "sp = yf.download(ticker, start=start_date, end=end_date)\n",
    "sp.columns = sp.columns.droplevel(1)\n",
    "sp.columns = sp.columns.str.lower()\n",
    "\n",
    "print(sp.head())"
   ]
  },
  {
   "cell_type": "code",
   "execution_count": null,
   "metadata": {
    "id": "C81o7UXzMFbG"
   },
   "outputs": [],
   "source": [
    "data = get_google_trends(kw_list, start_date, end_date)\n",
    "data"
   ]
  },
  {
   "cell_type": "code",
   "execution_count": null,
   "metadata": {
    "id": "OBeJGPXqOUH_"
   },
   "outputs": [],
   "source": [
    "sp = create_features(sp,data)"
   ]
  },
  {
   "cell_type": "code",
   "execution_count": null,
   "metadata": {
    "id": "_MzSIqk3OZuL"
   },
   "outputs": [],
   "source": [
    "sp"
   ]
  },
  {
   "cell_type": "code",
   "execution_count": null,
   "metadata": {
    "id": "aRSTlhImQ9Ol"
   },
   "outputs": [],
   "source": [
    "sp.columns"
   ]
  },
  {
   "cell_type": "code",
   "execution_count": null,
   "metadata": {
    "id": "bqBOZHk7Oayc"
   },
   "outputs": [],
   "source": [
    "FEATURES = ['lag_1', 'lag_3', 'lag_7', 'rolling_mean_7', 'rolling_std_7',\n",
    "            'volume_change_1', 'rsi', 'ma_gap', 'bb_upper', 'bb_lower',\n",
    "            'bb_width', 'macd', 'macd_signal', 'macd_diff', 'volatility_7',\n",
    "            'close_open_diff', 'day_of_week', 'is_weekend',\n",
    "            'is_month_end', 'is_quarter_end', 'month', 'year','Apple stock', 'buy stocks', 'market crash']\n",
    "\n",
    "X_backtest = sp[FEATURES].iloc[-7:]\n",
    "y_backtest_true = sp['target'].iloc[-7:]"
   ]
  },
  {
   "cell_type": "code",
   "execution_count": null,
   "metadata": {
    "id": "0QbicSBxS328"
   },
   "outputs": [],
   "source": [
    "X_backtest = sp[FEATURES].iloc[-30:]\n",
    "dates = sp.index[-30:]\n",
    "actual_prices = sp['close'].iloc[-30:].values\n",
    "\n",
    "predicted_prices = reg.predict(X_backtest)\n",
    "\n",
    "\n",
    "strategy_returns = []\n",
    "market_returns = []\n",
    "\n",
    "for i in range(len(predicted_prices) - 1):\n",
    "    # strategy: if predict growth, buy\n",
    "    if predicted_prices[i + 1] > predicted_prices[i]:\n",
    "        strategy_return = (actual_prices[i + 1] - actual_prices[i]) / actual_prices[i]\n",
    "    else:\n",
    "        strategy_return = 0\n",
    "    strategy_returns.append(strategy_return)\n",
    "\n",
    "\n",
    "    market_return = (actual_prices[i + 1] - actual_prices[i]) / actual_prices[i]\n",
    "    market_returns.append(market_return)\n",
    "\n",
    "\n",
    "strategy_cum = (1 + pd.Series(strategy_returns)).cumprod()\n",
    "market_cum = (1 + pd.Series(market_returns)).cumprod()\n",
    "\n",
    "# visualization\n",
    "\n",
    "plt.figure(figsize=(10, 6))\n",
    "plt.plot(dates[1:], strategy_cum, label='Strategy Return', linewidth=2)\n",
    "plt.plot(dates[1:], market_cum, label='Market Return', linewidth=2, linestyle='--')\n",
    "plt.title(\"Backtest Comparison: Strategy vs Market\")\n",
    "plt.xlabel(\"Date\")\n",
    "plt.ylabel(\"Cumulative Return\")\n",
    "plt.legend()\n",
    "plt.grid(True)\n",
    "plt.show()\n"
   ]
  },
  {
   "cell_type": "code",
   "execution_count": null,
   "metadata": {
    "id": "PqKRafY_U0DO"
   },
   "outputs": [],
   "source": [
    "def max_drawdown(cum_returns):\n",
    "    peak = np.maximum.accumulate(cum_returns)\n",
    "    drawdown = (cum_returns / peak) - 1\n",
    "    return drawdown.min()\n",
    "\n",
    "\n",
    "strategy_returns = np.array(strategy_returns)\n",
    "\n",
    "\n",
    "strategy_cum = pd.Series((1 + strategy_returns).cumprod(), index=sp.index[-len(strategy_returns):])\n",
    "\n",
    "\n",
    "mdd = max_drawdown(strategy_cum)\n",
    "print(f\"Max Drawdown: {mdd:.2%}\")\n"
   ]
  },
  {
   "cell_type": "code",
   "execution_count": null,
   "metadata": {
    "id": "PyF37kG-VU93"
   },
   "outputs": [],
   "source": [
    "# sharpe ratio\n",
    "sharpe_ratio = np.sqrt(252) * np.mean(strategy_returns) / np.std(strategy_returns)\n",
    "print(f\"Sharpe Ratio: {sharpe_ratio:.2f}\")\n"
   ]
  },
  {
   "cell_type": "code",
   "execution_count": null,
   "metadata": {
    "id": "AiCixyHMVXl5"
   },
   "outputs": [],
   "source": [
    "print(strategy_returns)"
   ]
  },
  {
   "cell_type": "code",
   "execution_count": null,
   "metadata": {
    "id": "ITHhI585w1jn"
   },
   "outputs": [],
   "source": []
  }
 ],
 "metadata": {
  "colab": {
   "provenance": []
  },
  "kernelspec": {
   "display_name": "Python 3",
   "name": "python3"
  },
  "language_info": {
   "name": "python"
  }
 },
 "nbformat": 4,
 "nbformat_minor": 0
}
